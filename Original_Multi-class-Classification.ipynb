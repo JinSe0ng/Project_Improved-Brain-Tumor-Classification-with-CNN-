# Required Libraries
import numpy as np
import os
import cv2
import tensorflow as tf
from tensorflow.keras import Input, Sequential
from tensorflow.keras.layers import Conv2D, MaxPooling2D, Flatten, Dense, Dropout
from tensorflow.keras.optimizers import Adam
from tensorflow.keras.utils import to_categorical
from sklearn.model_selection import train_test_split
from sklearn.metrics import classification_report, confusion_matrix
import matplotlib.pyplot as plt
import seaborn as sns


# Define Dataset Path
data = {
    "train": "/Users/ijinseong/Documents/for_git/LangChain/Project_4/4tum/Training",
    "test": "/Users/ijinseong/Documents/for_git/LangChain/Project_4/4tum/Testing"
}

labels = ['pituitary', 'notumor', 'glioma', 'meningioma']

# Function to load data and resize images
def load_data(data_path, labels, img_size=224):
    X, y = [], []
    if not os.path.exists(data_path):
        raise ValueError(f"Error: Path not found -> {data_path}")
    
    for label in labels:
        label_path = os.path.join(data_path, label)
        if not os.path.exists(label_path):
            print(f"Warning: Folder not found for label '{label}', skipping.")
            continue

        for img_name in os.listdir(label_path):
            img_path = os.path.join(label_path, img_name)
            try:
                img = cv2.imread(img_path)
                if img is None:
                    print(f"Warning: '{img_name}' could not be read, skipping.")
                    continue
                img = cv2.cvtColor(img, cv2.COLOR_BGR2RGB)
                img = cv2.resize(img, (img_size, img_size))
                X.append(img)
                y.append(labels.index(label))
            except Exception as e:
                print(f"Warning: Error loading '{img_name}': {e}")
    
    return np.array(X), np.array(y)


# Loading the data
X_train, y_train = load_data(data["train"], labels)
X_test, y_test = load_data(data["test"], labels)

# Normalize the data
X_train, X_test = X_train.astype("float32") / 255.0, X_test.astype("float32") / 255.0

# Convert labels to one-hot encoding
num_classes = len(labels)
y_train, y_test = to_categorical(y_train, num_classes), to_categorical(y_test, num_classes)

# Split the dataset into training and validation sets
X_train, X_val, y_train, y_val = train_test_split(X_train, y_train, test_size=0.2, random_state=42)


# Define the CNN model
model = Sequential([
    Input(shape=(224, 224, 3)), 
    
    Conv2D(32, (3, 3), activation='relu'),
    MaxPooling2D(2, 2),
    
    Conv2D(64, (3, 3), activation='relu'),
    MaxPooling2D(2, 2),
    
    Conv2D(128, (3, 3), activation='relu'),
    MaxPooling2D(2, 2),
    
    Flatten(),
    Dense(128, activation='relu'),
    Dropout(0.5),
    Dense(num_classes, activation='softmax')
])

# Compile the model
model.compile(optimizer=Adam(learning_rate=0.001), loss='categorical_crossentropy', metrics=['accuracy'])

# Prepare datasets
train_dataset = tf.data.Dataset.from_tensor_slices((X_train, y_train)).batch(32)
val_dataset = tf.data.Dataset.from_tensor_slices((X_val, y_val)).batch(32)

# Train the model
history = model.fit(train_dataset, validation_data=val_dataset, epochs=20, verbose=1)

# Evaluate the model
test_loss, test_accuracy = model.evaluate(X_test, y_test, verbose=1)
print(f"Test Loss: {test_loss:.4f}")
print(f"Test Accuracy: {test_accuracy:.4f}")

# Confusion Matrix and Classification Report
y_pred = model.predict(X_test)
y_pred_classes = np.argmax(y_pred, axis=1)
y_true = np.argmax(y_test, axis=1)

# Confusion Matrix visualization
conf_matrix = confusion_matrix(y_true, y_pred_classes)
plt.figure(figsize=(8, 6))
sns.heatmap(conf_matrix, annot=True, fmt="d", cmap="Blues", xticklabels=labels, yticklabels=labels)
plt.xlabel("Predicted Label")
plt.ylabel("True Label")
plt.title("Confusion Matrix")
plt.show()

# Classification Report
print("Classification Report:")
print(classification_report(y_true, y_pred_classes, target_names=labels))

# Visualize 20 randomly selected images
random_indices = np.random.choice(len(X_test), 20, replace=False)

plt.figure(figsize=(20, 10))
for i, idx in enumerate(random_indices):
    img = X_test[idx]
    true_label = y_true[idx]
    pred_label = y_pred_classes[idx]
    
    plt.subplot(4, 5, i + 1)  # 4 rows, 5 columns
    plt.imshow(img)  # RGB images
    plt.axis("off")
    
    # Green for correct predictions, red for incorrect
    color = "green" if true_label == pred_label else "red"
    plt.title(f"True: {labels[true_label]}\nPred: {labels[pred_label]}", color=color)

plt.tight_layout()
plt.show()
